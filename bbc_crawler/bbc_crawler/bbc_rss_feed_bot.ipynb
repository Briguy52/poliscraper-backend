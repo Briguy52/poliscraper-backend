{
 "cells": [
  {
   "cell_type": "code",
   "execution_count": null,
   "metadata": {
    "collapsed": true
   },
   "outputs": [],
   "source": [
    "from scrapy.spiders import XMLFeedSpider\n",
    "from myproject.items import TestItem\n",
    "\n",
    "class MySpider(XMLFeedSpider):\n",
    "    name = 'bbc_crawler'\n",
    "    allowed_domains = ['bbc.com', 'bbc.co.uk', 'bbci.co.uk']\n",
    "    start_urls = ['http://feeds.bbci.co.uk/news/world/rss.xml']\n",
    "    iterator = 'iternodes'  # This is actually unnecessary, since it's the default value\n",
    "    itertag = 'item'\n",
    "\n",
    "    def parse_node(self, response, node):\n",
    "        self.logger.info('Hi, this is a <%s> node!: %s', self.itertag, ''.join(node.extract()))\n",
    "\n",
    "        item = TestItem()\n",
    "        item['id'] = node.xpath('@id').extract()\n",
    "        return item"
   ]
  }
 ],
 "metadata": {
  "kernelspec": {
   "display_name": "Python 3",
   "language": "python",
   "name": "python3"
  },
  "language_info": {
   "codemirror_mode": {
    "name": "ipython",
    "version": 3
   },
   "file_extension": ".py",
   "mimetype": "text/x-python",
   "name": "python",
   "nbconvert_exporter": "python",
   "pygments_lexer": "ipython3",
   "version": "3.5.1"
  }
 },
 "nbformat": 4,
 "nbformat_minor": 0
}
